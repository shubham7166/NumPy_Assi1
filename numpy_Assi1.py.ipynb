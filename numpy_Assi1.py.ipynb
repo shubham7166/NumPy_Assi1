{
 "cells": [
  {
   "cell_type": "markdown",
   "id": "0d1d0978",
   "metadata": {},
   "source": [
    "## 1. Create a null vector of size 10 but the fifth value which is 1."
   ]
  },
  {
   "cell_type": "code",
   "execution_count": 2,
   "id": "d16c062a",
   "metadata": {},
   "outputs": [
    {
     "data": {
      "text/plain": [
       "array([0, 0, 0, 0, 1, 0, 0, 0, 0, 0])"
      ]
     },
     "execution_count": 2,
     "metadata": {},
     "output_type": "execute_result"
    }
   ],
   "source": [
    "import numpy as np \n",
    "(np.arange(10)==4).astype(int)"
   ]
  },
  {
   "cell_type": "markdown",
   "id": "aeefac5a",
   "metadata": {},
   "source": [
    "## 2. Create a vector with values ranging from 10 to 49."
   ]
  },
  {
   "cell_type": "code",
   "execution_count": 4,
   "id": "9f29d6ae",
   "metadata": {},
   "outputs": [
    {
     "data": {
      "text/plain": [
       "array([10, 11, 12, 13, 14, 15, 16, 17, 18, 19, 20, 21, 22, 23, 24, 25, 26,\n",
       "       27, 28, 29, 30, 31, 32, 33, 34, 35, 36, 37, 38, 39, 40, 41, 42, 43,\n",
       "       44, 45, 46, 47, 48, 49])"
      ]
     },
     "execution_count": 4,
     "metadata": {},
     "output_type": "execute_result"
    }
   ],
   "source": [
    "np.arange(10,50)"
   ]
  },
  {
   "cell_type": "markdown",
   "id": "5db28462",
   "metadata": {},
   "source": [
    "## 3. Create a 3x3 matrix with values ranging from 0 to 8"
   ]
  },
  {
   "cell_type": "code",
   "execution_count": 5,
   "id": "c2f60dea",
   "metadata": {},
   "outputs": [
    {
     "name": "stdout",
     "output_type": "stream",
     "text": [
      "[[0 1 2]\n",
      " [3 4 5]\n",
      " [6 7 8]]\n"
     ]
    }
   ],
   "source": [
    "x=np.arange(0,9).reshape(3,3)\n",
    "print(x)"
   ]
  },
  {
   "cell_type": "markdown",
   "id": "3af7c785",
   "metadata": {},
   "source": [
    "## 4. Find indices of non-zero elements from [1,2,0,0,4,0]"
   ]
  },
  {
   "cell_type": "code",
   "execution_count": 6,
   "id": "9d361c87",
   "metadata": {},
   "outputs": [
    {
     "name": "stdout",
     "output_type": "stream",
     "text": [
      "indices of non-zero elements are: (array([0, 1, 4], dtype=int64),)\n"
     ]
    }
   ],
   "source": [
    "x=np.array([1,2,0,0,4,0])\n",
    "print(\"indices of non-zero elements are:\",np.nonzero(x))"
   ]
  },
  {
   "cell_type": "markdown",
   "id": "aeefa3e1",
   "metadata": {},
   "source": [
    "## 5. Create a 10x10 array with random values and find the minimum and maximum values."
   ]
  },
  {
   "cell_type": "code",
   "execution_count": 7,
   "id": "85ce5b96",
   "metadata": {},
   "outputs": [
    {
     "name": "stdout",
     "output_type": "stream",
     "text": [
      "Minimum vales: 0.003485807693781706\n",
      "Maximum values: 0.9801094004373603\n",
      "[[0.86523963 0.92754903 0.01210272 0.34850511 0.20647813 0.55639474\n",
      "  0.15804383 0.94965957 0.18081817 0.26951492]\n",
      " [0.75156401 0.29921268 0.6600651  0.34154997 0.16990402 0.75474259\n",
      "  0.06968132 0.41347326 0.91258346 0.18812661]\n",
      " [0.13377934 0.28137455 0.32786113 0.29934626 0.69974757 0.95495226\n",
      "  0.57293275 0.35899896 0.62667152 0.91486637]\n",
      " [0.04756793 0.51727005 0.36003569 0.66067079 0.64477281 0.81659234\n",
      "  0.34736849 0.45102898 0.49366874 0.18672966]\n",
      " [0.23638161 0.83427943 0.01188009 0.5360297  0.01830171 0.78240345\n",
      "  0.33306108 0.77702167 0.5791599  0.64428632]\n",
      " [0.7333447  0.82516782 0.9077152  0.25990532 0.91625832 0.00348581\n",
      "  0.00735961 0.29239424 0.72492762 0.59617783]\n",
      " [0.57468362 0.27705271 0.85621733 0.0599964  0.489359   0.00936016\n",
      "  0.14032846 0.20768561 0.87068709 0.58233499]\n",
      " [0.12965212 0.89504445 0.47153737 0.9266039  0.02414743 0.66227099\n",
      "  0.5325572  0.34255996 0.03032504 0.88982862]\n",
      " [0.66237543 0.55567267 0.37248497 0.61487917 0.92395969 0.02127648\n",
      "  0.80929535 0.8967063  0.90528372 0.76664236]\n",
      " [0.24274758 0.68193631 0.12322767 0.7373869  0.85708273 0.71587479\n",
      "  0.06842022 0.66334761 0.17385729 0.9801094 ]]\n"
     ]
    }
   ],
   "source": [
    "import random\n",
    "random.seed(10)\n",
    "x=np.random.random(size=(10,10))\n",
    "print(\"Minimum vales:\",x.min())\n",
    "print(\"Maximum values:\",x.max())\n",
    "print(x)"
   ]
  },
  {
   "cell_type": "markdown",
   "id": "34eea0b6",
   "metadata": {},
   "source": [
    "## 6. Create a random vector of size 30 and find the mean value."
   ]
  },
  {
   "cell_type": "code",
   "execution_count": 8,
   "id": "3c8644ed",
   "metadata": {},
   "outputs": [
    {
     "name": "stdout",
     "output_type": "stream",
     "text": [
      "mean: 0.43516255592712033\n"
     ]
    }
   ],
   "source": [
    "arr=np.random.random((5,6))\n",
    "Mean_value_of_the_matrix=np.mean(arr)\n",
    "print(\"mean:\",Mean_value_of_the_matrix)"
   ]
  },
  {
   "cell_type": "code",
   "execution_count": null,
   "id": "8cfa9835",
   "metadata": {},
   "outputs": [],
   "source": []
  }
 ],
 "metadata": {
  "kernelspec": {
   "display_name": "Python 3 (ipykernel)",
   "language": "python",
   "name": "python3"
  },
  "language_info": {
   "codemirror_mode": {
    "name": "ipython",
    "version": 3
   },
   "file_extension": ".py",
   "mimetype": "text/x-python",
   "name": "python",
   "nbconvert_exporter": "python",
   "pygments_lexer": "ipython3",
   "version": "3.9.6"
  }
 },
 "nbformat": 4,
 "nbformat_minor": 5
}
